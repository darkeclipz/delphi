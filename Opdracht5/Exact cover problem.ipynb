{
 "cells": [
  {
   "cell_type": "markdown",
   "metadata": {},
   "source": [
    "# Exact cover problem"
   ]
  },
  {
   "cell_type": "code",
   "execution_count": 1,
   "metadata": {},
   "outputs": [
    {
     "name": "stdout",
     "output_type": "stream",
     "text": [
      "Populating the interactive namespace from numpy and matplotlib\n"
     ]
    }
   ],
   "source": [
    "%pylab inline"
   ]
  },
  {
   "cell_type": "markdown",
   "metadata": {},
   "source": [
    "The problem is a type of an **exact cover problem**. We have a $M\\times N$ grid, and a set of pieces. Then we need to find all the possible arangements for all the pieces that exactly cover the grid. To simplify this problem, it is illustrated here on a $3\\times 3$ grid."
   ]
  },
  {
   "cell_type": "code",
   "execution_count": 80,
   "metadata": {},
   "outputs": [],
   "source": [
    "grid = [[0] * 3 for _ in range(3)]\n",
    "\n",
    "P0_H = [[1,1,1],\n",
    "        [0,0,0],\n",
    "        [0,0,0]]\n",
    "\n",
    "P0_V = [[1,0,0],\n",
    "        [1,0,0],\n",
    "        [1,0,0]]\n",
    "\n",
    "P1_0 = [[1,1,0],\n",
    "        [1,0,0],\n",
    "        [0,0,0]]\n",
    "\n",
    "P1_1 = [[1,1,0],\n",
    "        [0,1,0],\n",
    "        [0,0,0]]\n",
    "\n",
    "P1_2 = [[0,1,0],\n",
    "        [1,1,0],\n",
    "        [0,0,0]]\n",
    "\n",
    "P1_3 = [[1,0,0],\n",
    "        [1,1,0],\n",
    "        [0,0,0]]\n",
    "\n",
    "pieces = [P0_H, P0_V, P1_0, P1_1, P1_2, P1_3, P1_0, P1_1, P1_2, P1_3]\n",
    "tile_index = [0, 0, 1, 1, 1, 1, 2, 2, 2, 2]\n",
    "dimensions = [(3,1), (1,3), (2,2), (2,2), (2,2), (2,2), (2,2), (2,2), (2,2), (2,2)]"
   ]
  },
  {
   "cell_type": "markdown",
   "metadata": {},
   "source": [
    "The empty $3\\times 3$ grid is just a black square at this moment. No pieces have been placed in it yet."
   ]
  },
  {
   "cell_type": "code",
   "execution_count": 81,
   "metadata": {},
   "outputs": [
    {
     "data": {
      "text/plain": [
       "<matplotlib.image.AxesImage at 0x4925d50>"
      ]
     },
     "execution_count": 81,
     "metadata": {},
     "output_type": "execute_result"
    },
    {
     "data": {
      "image/png": "[encoded data removed]",
      "text/plain": [
       "<Figure size 432x288 with 1 Axes>"
      ]
     },
     "metadata": {
      "needs_background": "light"
     },
     "output_type": "display_data"
    }
   ],
   "source": [
    "plt.imshow(grid)"
   ]
  },
  {
   "cell_type": "markdown",
   "metadata": {},
   "source": [
    "In this example there are two shapes, and three pieces. There are two of the same kind of shape. The shapes that are used in this example are:"
   ]
  },
  {
   "cell_type": "code",
   "execution_count": 349,
   "metadata": {},
   "outputs": [
    {
     "data": {
      "text/plain": [
       "(-0.5, 2.5, 2.5, -0.5)"
      ]
     },
     "execution_count": 349,
     "metadata": {},
     "output_type": "execute_result"
    },
    {
     "data": {
      "image/png": "[encoded data removed]",
      "text/plain": [
       "<Figure size 432x288 with 2 Axes>"
      ]
     },
     "metadata": {
      "needs_background": "light"
     },
     "output_type": "display_data"
    }
   ],
   "source": [
    "plt.subplots(1,2)\n",
    "plt.subplot(121)\n",
    "plt.imshow(P0_H)\n",
    "plt.axis('off')\n",
    "plt.subplot(122)\n",
    "plt.imshow(P1_0)\n",
    "plt.tight_layout()\n",
    "plt.axis('off')"
   ]
  },
  {
   "cell_type": "markdown",
   "metadata": {},
   "source": [
    "The shapes can also be rotated, and flipped. This leads to two different shapes for the first shape:"
   ]
  },
  {
   "cell_type": "code",
   "execution_count": 348,
   "metadata": {},
   "outputs": [
    {
     "data": {
      "text/plain": [
       "(-0.5, 2.5, 2.5, -0.5)"
      ]
     },
     "execution_count": 348,
     "metadata": {},
     "output_type": "execute_result"
    },
    {
     "data": {
      "image/png": "[encoded data removed]",
      "text/plain": [
       "<Figure size 432x288 with 2 Axes>"
      ]
     },
     "metadata": {
      "needs_background": "light"
     },
     "output_type": "display_data"
    }
   ],
   "source": [
    "plt.subplots(1,2)\n",
    "plt.subplot(121)\n",
    "plt.imshow(P0_H)\n",
    "plt.axis('off')\n",
    "plt.subplot(122)\n",
    "plt.imshow(P0_V)\n",
    "plt.tight_layout()\n",
    "plt.axis('off')"
   ]
  },
  {
   "cell_type": "markdown",
   "metadata": {},
   "source": [
    "And the second shape has the following four different orientations:"
   ]
  },
  {
   "cell_type": "code",
   "execution_count": 354,
   "metadata": {},
   "outputs": [
    {
     "data": {
      "image/png": "[encoded data removed]",
      "text/plain": [
       "<Figure size 432x288 with 4 Axes>"
      ]
     },
     "metadata": {
      "needs_background": "light"
     },
     "output_type": "display_data"
    }
   ],
   "source": [
    "plt.subplots(2,2)\n",
    "for i, s in enumerate([P1_0, P1_1, P1_2, P1_3]):\n",
    "    plt.subplot(2,2,i + 1)\n",
    "    plt.imshow(s)\n",
    "    plt.axis('off')\n",
    "    plt.title('Orientation {}'.format(i + 1))"
   ]
  },
  {
   "cell_type": "markdown",
   "metadata": {},
   "source": [
    "So in total there are two shapes, with a total of six orientations. For the first shape there are two orientations, and the for the other two shapes there are four orientations. We also store the dimension of each shape. We need this information to figure out how many positions there on which we can place the pieces on the grid."
   ]
  },
  {
   "cell_type": "code",
   "execution_count": 82,
   "metadata": {},
   "outputs": [
    {
     "data": {
      "image/png": "[encoded data removed]",
      "text/plain": [
       "<Figure size 432x288 with 6 Axes>"
      ]
     },
     "metadata": {
      "needs_background": "light"
     },
     "output_type": "display_data"
    }
   ],
   "source": [
    "plt.subplots(2,3)\n",
    "for i, p in enumerate(pieces[:6]):\n",
    "    plt.subplot(2,3,i+1)\n",
    "    plt.imshow(p)\n",
    "    plt.axis('off')\n",
    "    plt.title('Dimension: {}'.format(dimensions[i]))\n",
    "plt.tight_layout()"
   ]
  },
  {
   "cell_type": "markdown",
   "metadata": {},
   "source": [
    "For an orientated shape, this function will find all the possible positions for this shape. The result is transformed (with $\\text{index} = y\\cdot \\text{grid_width} + x$) into a 1D array that can be used as a row in a matrix. The function returns all possible rows for the positions."
   ]
  },
  {
   "cell_type": "code",
   "execution_count": 356,
   "metadata": {},
   "outputs": [],
   "source": [
    "def get_rows(tile, shape_dim, grid_dim):\n",
    "    L = []\n",
    "    shape_width, shape_height = shape_dim\n",
    "    grid_width, grid_height = grid_dim\n",
    "    for y in range(grid_height - shape_height + 1):\n",
    "        for x in range(grid_width - shape_width + 1):\n",
    "            L.append((x, y))\n",
    "    rows = []\n",
    "    for offset_x, offset_y in L:\n",
    "        row = [0] * grid_width * grid_height\n",
    "        for x in range(shape_height):\n",
    "            for y in range(shape_width):\n",
    "                if tile[x][y]:\n",
    "                    row[((x + offset_y) * grid_width) + y + offset_x] = 1\n",
    "        rows.append(row)\n",
    "    return rows"
   ]
  },
  {
   "cell_type": "markdown",
   "metadata": {},
   "source": [
    "For the first piece, we will get three possible positions:"
   ]
  },
  {
   "cell_type": "code",
   "execution_count": 357,
   "metadata": {},
   "outputs": [
    {
     "data": {
      "text/plain": [
       "[[1, 1, 1, 0, 0, 0, 0, 0, 0],\n",
       " [0, 0, 0, 1, 1, 1, 0, 0, 0],\n",
       " [0, 0, 0, 0, 0, 0, 1, 1, 1]]"
      ]
     },
     "execution_count": 357,
     "metadata": {},
     "output_type": "execute_result"
    },
    {
     "data": {
      "image/png": "[encoded data removed]",
      "text/plain": [
       "<Figure size 432x288 with 1 Axes>"
      ]
     },
     "metadata": {
      "needs_background": "light"
     },
     "output_type": "display_data"
    }
   ],
   "source": [
    "R = get_rows(pieces[0], dimensions[0], (3, 3))\n",
    "plt.imshow(R); R"
   ]
  },
  {
   "cell_type": "markdown",
   "metadata": {},
   "source": [
    "With this function we create all the rows for all the orientated pieces, and combine them into a single matrix $R$. We will also add a few columns $H$ to the front to identify which piece it belongs to. So the resulting matrix is:\n",
    "\n",
    "$$ \n",
    "M = \\begin{bmatrix}\n",
    "H && R\n",
    "\\end{bmatrix}\n",
    "$$"
   ]
  },
  {
   "cell_type": "code",
   "execution_count": 184,
   "metadata": {},
   "outputs": [],
   "source": [
    "def get_matrix_for_pieces(pieces, dimensions, n_pieces):\n",
    "    rows = []\n",
    "    for i, p in enumerate(pieces):\n",
    "        header = [0] * n_pieces\n",
    "        header[tile_index[i]] = 1\n",
    "        piece_rows = get_rows(p, dimensions[i], (3,3))\n",
    "        piece_rows = [header + pr for pr in piece_rows]\n",
    "        rows += piece_rows\n",
    "    return rows"
   ]
  },
  {
   "cell_type": "markdown",
   "metadata": {},
   "source": [
    "If we visualize $M$:"
   ]
  },
  {
   "cell_type": "code",
   "execution_count": 185,
   "metadata": {
    "scrolled": true
   },
   "outputs": [
    {
     "data": {
      "text/plain": [
       "<matplotlib.image.AxesImage at 0x48e8ab0>"
      ]
     },
     "execution_count": 185,
     "metadata": {},
     "output_type": "execute_result"
    },
    {
     "data": {
      "image/png": "[encoded data removed]",
      "text/plain": [
       "<Figure size 1008x432 with 1 Axes>"
      ]
     },
     "metadata": {
      "needs_background": "light"
     },
     "output_type": "display_data"
    }
   ],
   "source": [
    "M = np.matrix(get_matrix_for_pieces(pieces, dimensions, 3))\n",
    "plt.figure(figsize=(14,6))\n",
    "plt.imshow(M)"
   ]
  },
  {
   "cell_type": "markdown",
   "metadata": {},
   "source": [
    "The algorithm that we are going to use is a modified version of __Algorithm X__, which is created by Donald. E. Knuth. The algorithm is as follows:\n",
    "\n",
    "1. Select a determined column $\\text{col}$ (up to the number of pieces).\n",
    "2. Find a row where $M[\\text{row, col}] = 1$.\n",
    "3. Delete all the other rows from $M$ where $M[j, \\text{col}] = 1$ for $j = 0..\\text{rows}$.\n",
    "4. Recursively call this method on $M$.\n",
    "\n",
    "To do this efficiently, we will first create a function which we can use to prune the rows in $M$. For the desired row, we check each column for that row which contains a one, and then remove all the other rows for which the column is also 1.\n",
    "\n",
    "This reduces the amount of possible solutions. It is also possible that there are less than 3 remaining rows, meaning that a solution was not possible with that configuration of pieces."
   ]
  },
  {
   "cell_type": "code",
   "execution_count": 318,
   "metadata": {},
   "outputs": [],
   "source": [
    "def prune_rows(row_index, M):\n",
    "    rows = []\n",
    "    for j in range(M.shape[1]):\n",
    "        if M[row_index, j] == 1:\n",
    "            for i in range(M.shape[0]):\n",
    "                if M[i, j] == 1 and i != row_index:\n",
    "                    rows.append(i)\n",
    "    return rows"
   ]
  },
  {
   "cell_type": "markdown",
   "metadata": {},
   "source": [
    "To illustrate what this does, let's take a look at the initial state of $M$:"
   ]
  },
  {
   "cell_type": "code",
   "execution_count": 323,
   "metadata": {
    "scrolled": true
   },
   "outputs": [
    {
     "data": {
      "text/plain": [
       "<matplotlib.image.AxesImage at 0x83a29d0>"
      ]
     },
     "execution_count": 323,
     "metadata": {},
     "output_type": "execute_result"
    },
    {
     "data": {
      "image/png": "[encoded data removed]",
      "text/plain": [
       "<Figure size 432x288 with 1 Axes>"
      ]
     },
     "metadata": {
      "needs_background": "light"
     },
     "output_type": "display_data"
    }
   ],
   "source": [
    "plt.imshow(M)"
   ]
  },
  {
   "cell_type": "markdown",
   "metadata": {},
   "source": [
    "Now if we prune for the first row, it will remove all the other possible choices for the first piece because it has the header with the ones."
   ]
  },
  {
   "cell_type": "code",
   "execution_count": 359,
   "metadata": {},
   "outputs": [
    {
     "data": {
      "text/plain": [
       "<matplotlib.image.AxesImage at 0x8ea5eb0>"
      ]
     },
     "execution_count": 359,
     "metadata": {},
     "output_type": "execute_result"
    },
    {
     "data": {
      "image/png": "[encoded data removed]",
      "text/plain": [
       "<Figure size 432x288 with 1 Axes>"
      ]
     },
     "metadata": {
      "needs_background": "light"
     },
     "output_type": "display_data"
    }
   ],
   "source": [
    "N = np.delete(M, prune_rows(0, M), axis=0)\n",
    "plt.imshow(N)"
   ]
  },
  {
   "cell_type": "markdown",
   "metadata": {},
   "source": [
    "If we now repeat this another iteration, and select the second row to use for pruning, we get:"
   ]
  },
  {
   "cell_type": "code",
   "execution_count": 322,
   "metadata": {},
   "outputs": [
    {
     "data": {
      "text/plain": [
       "<matplotlib.image.AxesImage at 0x48b2950>"
      ]
     },
     "execution_count": 322,
     "metadata": {},
     "output_type": "execute_result"
    },
    {
     "data": {
      "image/png": "[encoded data removed]",
      "text/plain": [
       "<Figure size 432x288 with 1 Axes>"
      ]
     },
     "metadata": {
      "needs_background": "light"
     },
     "output_type": "display_data"
    }
   ],
   "source": [
    "O = np.delete(N, prune_rows(1, N), axis=0)\n",
    "plt.imshow(O)"
   ]
  },
  {
   "cell_type": "markdown",
   "metadata": {},
   "source": [
    "Which is a solution! But it is also possible to have less than $3$ (in this case) of rows left in $M$, meaning that the solution is invalid.\n",
    "\n",
    "If we program this into a recursive function which prints the solution:"
   ]
  },
  {
   "cell_type": "code",
   "execution_count": 414,
   "metadata": {},
   "outputs": [
    {
     "name": "stdout",
     "output_type": "stream",
     "text": [
      "Solution:\r\n",
      "[[1 0 0 1 1 1 0 0 0 0 0 0]\n",
      " [0 1 0 0 0 0 1 1 0 1 0 0]\n",
      " [0 0 1 0 0 0 0 0 1 0 1 1]]\n",
      "Solution:\r\n",
      "[[1 0 0 1 1 1 0 0 0 0 0 0]\n",
      " [0 1 0 0 0 0 0 1 1 0 0 1]\n",
      " [0 0 1 0 0 0 1 0 0 1 1 0]]\n",
      "Solution:\r\n",
      "[[1 0 0 1 1 1 0 0 0 0 0 0]\n",
      " [0 1 0 0 0 0 0 0 1 0 1 1]\n",
      " [0 0 1 0 0 0 1 1 0 1 0 0]]\n",
      "Solution:\r\n",
      "[[1 0 0 1 1 1 0 0 0 0 0 0]\n",
      " [0 1 0 0 0 0 1 0 0 1 1 0]\n",
      " [0 0 1 0 0 0 0 1 1 0 0 1]]\n",
      "Solution:\r\n",
      "[[1 0 0 0 0 0 0 0 0 1 1 1]\n",
      " [0 1 0 1 1 0 1 0 0 0 0 0]\n",
      " [0 0 1 0 0 1 0 1 1 0 0 0]]\n",
      "Solution:\r\n",
      "[[1 0 0 0 0 0 0 0 0 1 1 1]\n",
      " [0 1 0 0 1 1 0 0 1 0 0 0]\n",
      " [0 0 1 1 0 0 1 1 0 0 0 0]]\n",
      "Solution:\r\n",
      "[[1 0 0 0 0 0 0 0 0 1 1 1]\n",
      " [0 1 0 0 0 1 0 1 1 0 0 0]\n",
      " [0 0 1 1 1 0 1 0 0 0 0 0]]\n",
      "Solution:\r\n",
      "[[1 0 0 0 0 0 0 0 0 1 1 1]\n",
      " [0 1 0 1 0 0 1 1 0 0 0 0]\n",
      " [0 0 1 0 1 1 0 0 1 0 0 0]]\n",
      "Solution:\r\n",
      "[[1 0 0 1 0 0 1 0 0 1 0 0]\n",
      " [0 1 0 0 1 1 0 1 0 0 0 0]\n",
      " [0 0 1 0 0 0 0 0 1 0 1 1]]\n",
      "Solution:\r\n",
      "[[1 0 0 1 0 0 1 0 0 1 0 0]\n",
      " [0 1 0 0 1 1 0 0 1 0 0 0]\n",
      " [0 0 1 0 0 0 0 1 0 0 1 1]]\n",
      "Solution:\r\n",
      "[[1 0 0 1 0 0 1 0 0 1 0 0]\n",
      " [0 1 0 0 0 0 0 0 1 0 1 1]\n",
      " [0 0 1 0 1 1 0 1 0 0 0 0]]\n",
      "Solution:\r\n",
      "[[1 0 0 1 0 0 1 0 0 1 0 0]\n",
      " [0 1 0 0 0 0 0 1 0 0 1 1]\n",
      " [0 0 1 0 1 1 0 0 1 0 0 0]]\n",
      "Solution:\r\n",
      "[[1 0 0 0 0 1 0 0 1 0 0 1]\n",
      " [0 1 0 1 1 0 1 0 0 0 0 0]\n",
      " [0 0 1 0 0 0 0 1 0 1 1 0]]\n",
      "Solution:\r\n",
      "[[1 0 0 0 0 1 0 0 1 0 0 1]\n",
      " [0 1 0 1 1 0 0 1 0 0 0 0]\n",
      " [0 0 1 0 0 0 1 0 0 1 1 0]]\n",
      "Solution:\r\n",
      "[[1 0 0 0 0 1 0 0 1 0 0 1]\n",
      " [0 1 0 0 0 0 0 1 0 1 1 0]\n",
      " [0 0 1 1 1 0 1 0 0 0 0 0]]\n",
      "Solution:\r\n",
      "[[1 0 0 0 0 1 0 0 1 0 0 1]\n",
      " [0 1 0 0 0 0 1 0 0 1 1 0]\n",
      " [0 0 1 1 1 0 0 1 0 0 0 0]]\n"
     ]
    }
   ],
   "source": [
    "def solve(M, S, cols, i=0):\n",
    "    global sub_plot\n",
    "    \n",
    "    if M.shape[0] < cols:\n",
    "        return  # invalid solution\n",
    "    \n",
    "    if M.shape[0] == cols:\n",
    "        print('Solution:\\r\\n{}'.format(M))\n",
    "        return\n",
    "    \n",
    "    for row in range(M.shape[0]):\n",
    "        if M[row, i] == 1:\n",
    "            N = np.delete(M, prune_rows(row, M), axis=0)\n",
    "            solve(N, S, cols, i + 1)\n",
    "\n",
    "S = []    \n",
    "solve(np.array(M), S, cols=3)"
   ]
  },
  {
   "cell_type": "markdown",
   "metadata": {},
   "source": [
    "We get all the possible configurations for this puzzle."
   ]
  },
  {
   "cell_type": "markdown",
   "metadata": {},
   "source": [
    "But to visualize it is not a bad thing, so let's do that:"
   ]
  },
  {
   "cell_type": "code",
   "execution_count": 392,
   "metadata": {
    "scrolled": false
   },
   "outputs": [
    {
     "name": "stdout",
     "output_type": "stream",
     "text": [
      "Number of solutions: 16\n"
     ]
    },
    {
     "data": {
      "image/png": "[encoded data removed]",
      "text/plain": [
       "<Figure size 576x288 with 16 Axes>"
      ]
     },
     "metadata": {
      "needs_background": "light"
     },
     "output_type": "display_data"
    }
   ],
   "source": [
    "def solve(M, S, cols, i=0):\n",
    "    global sub_plot\n",
    "    \n",
    "    if M.shape[0] == cols:\n",
    "        #print('Solution: {}'.format(M))\n",
    "        plt.subplot(4, 4, sub_plot)\n",
    "        plt.imshow(M)\n",
    "        plt.axis('off')\n",
    "        S.append(M)\n",
    "        plt.title('Solution {}'.format(sub_plot))\n",
    "        sub_plot += 1\n",
    "        return\n",
    "    \n",
    "    for row in range(M.shape[0]):\n",
    "        if M[row, i] == 1:\n",
    "            N = np.delete(M, prune_rows(row, M), axis=0)\n",
    "            solve(N, S, cols, i + 1)\n",
    "    \n",
    "plt.subplots(4, 4, figsize=(8, 4))\n",
    "sub_plot = 1\n",
    "\n",
    "S = []    \n",
    "solve(np.array(M), S, cols=3)\n",
    "print('Number of solutions: {}'.format(len(S)))\n",
    "plt.tight_layout()"
   ]
  },
  {
   "cell_type": "markdown",
   "metadata": {},
   "source": [
    "We can also convert the solution back to a 2D image."
   ]
  },
  {
   "cell_type": "code",
   "execution_count": 413,
   "metadata": {},
   "outputs": [],
   "source": [
    "def show_solution(S, D):\n",
    "    R = [[0] * D[1] for _ in range(D[0])]\n",
    "    for shape_id, s in enumerate(S):\n",
    "        for i in range(len(s)-3):\n",
    "            if s[3:][i]:  # the first columns belong to the header\n",
    "                r = i // 3\n",
    "                c = i % 3\n",
    "                R[c][r] = shape_id\n",
    "    plt.imshow(R)"
   ]
  },
  {
   "cell_type": "code",
   "execution_count": 406,
   "metadata": {},
   "outputs": [
    {
     "data": {
      "image/png": "[encoded data removed]",
      "text/plain": [
       "<Figure size 432x288 with 1 Axes>"
      ]
     },
     "metadata": {
      "needs_background": "light"
     },
     "output_type": "display_data"
    }
   ],
   "source": [
    "show_solution(S[0], (3, 3))"
   ]
  },
  {
   "cell_type": "code",
   "execution_count": 411,
   "metadata": {},
   "outputs": [
    {
     "data": {
      "image/png": "[encoded data removed]",
      "text/plain": [
       "<Figure size 720x720 with 16 Axes>"
      ]
     },
     "metadata": {
      "needs_background": "light"
     },
     "output_type": "display_data"
    }
   ],
   "source": [
    "plt.subplots(4,4, figsize=(10, 10))\n",
    "for i, s in enumerate(S):\n",
    "    plt.subplot(4,4,i+1)\n",
    "    show_solution(s, (3, 3))\n",
    "    plt.axis('off')"
   ]
  }
 ],
 "metadata": {
  "kernelspec": {
   "display_name": "Python 3",
   "language": "python",
   "name": "python3"
  },
  "language_info": {
   "codemirror_mode": {
    "name": "ipython",
    "version": 3
   },
   "file_extension": ".py",
   "mimetype": "text/x-python",
   "name": "python",
   "nbconvert_exporter": "python",
   "pygments_lexer": "ipython3",
   "version": "3.7.4"
  }
 },
 "nbformat": 4,
 "nbformat_minor": 2
}
