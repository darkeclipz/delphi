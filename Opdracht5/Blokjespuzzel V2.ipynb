{
 "cells": [
  {
   "cell_type": "code",
   "execution_count": 1,
   "metadata": {},
   "outputs": [
    {
     "name": "stdout",
     "output_type": "stream",
     "text": [
      "Populating the interactive namespace from numpy and matplotlib\n"
     ]
    }
   ],
   "source": [
    "%pylab inline"
   ]
  },
  {
   "cell_type": "code",
   "execution_count": 53,
   "metadata": {},
   "outputs": [],
   "source": [
    "def get_matrix_for_piece(P):\n",
    "    R = [[0,0,0,0,0] for _ in range(5)]\n",
    "    for x in range(5):\n",
    "        for y in range(5):\n",
    "            if 5 * y + x in P:\n",
    "                R[x][y] = 1\n",
    "    return R\n",
    "\n",
    "def rotate_matrix(M):\n",
    "    R = [[0,0,0,0,0] for _ in range(5)]\n",
    "    for x in range(5):\n",
    "        for y in range(5):\n",
    "            R[y][4-x] = M[x][y]\n",
    "    return R\n",
    "\n",
    "def vflip_matrix(M):\n",
    "    R = [[0,0,0,0,0] for _ in range(5)]\n",
    "    for x in range(5):\n",
    "        for y in range(5):\n",
    "            R[x][y] = M[4-x][y]\n",
    "    return R\n",
    "\n",
    "def hflip_matrix(M):\n",
    "    R = [[0,0,0,0,0] for _ in range(5)]\n",
    "    for x in range(5):\n",
    "        for y in range(5):\n",
    "            R[x][y] = M[x][4-y]\n",
    "    return R"
   ]
  },
  {
   "cell_type": "code",
   "execution_count": 54,
   "metadata": {},
   "outputs": [],
   "source": [
    "Z = [0, 1, 5, 6, 11, 12, 16, 17]\n",
    "I = [0, 1, 2, 3, 5, 6, 7, 8]\n",
    "L = [2, 3, 7, 8, 10, 11, 12, 13]\n",
    "U = [0, 5, 10, 11, 12, 13, 8, 3]\n",
    "Y = [0, 1, 2, 5, 6, 7, 11, 16]\n",
    "B = [0, 1, 2, 5, 6, 7, 10, 11]\n",
    "T = [1, 2, 6, 7, 10, 11, 12, 13]\n",
    "P = [1, 6, 10, 11, 15, 16, 20, 21]\n",
    "pieces = [Z, I, L, U, Y, B, T, P]\n",
    "configurations = [4, 2, 4, 4, 4, 4, 4, 4]\n",
    "names = ['Z', 'I', 'L', 'U', 'Y', 'B', 'T', 'P']\n",
    "pieces = [get_matrix_for_piece(p) for p in pieces]"
   ]
  },
  {
   "cell_type": "code",
   "execution_count": 55,
   "metadata": {},
   "outputs": [
    {
     "data": {
      "image/png": "[encoded data removed]",
      "text/plain": [
       "<Figure size 576x576 with 9 Axes>"
      ]
     },
     "metadata": {
      "needs_background": "light"
     },
     "output_type": "display_data"
    }
   ],
   "source": [
    "plt.subplots(3, 3, figsize=(8, 8))\n",
    "curr_plot = 0\n",
    "for i, p in enumerate(pieces):\n",
    "    plt.subplot(3, 3, curr_plot + 1)\n",
    "    plt.axis('off')\n",
    "    plt.imshow(p)\n",
    "    curr_plot += 1\n",
    "plt.subplot(3,3,9)\n",
    "plt.imshow(np.eye(3)*0)\n",
    "plt.axis('off')\n",
    "plt.tight_layout(pad=1)"
   ]
  },
  {
   "cell_type": "code",
   "execution_count": 60,
   "metadata": {},
   "outputs": [],
   "source": [
    "def shift(x, n):\n",
    "    return x[n:] + x[:n]"
   ]
  },
  {
   "cell_type": "code",
   "execution_count": 91,
   "metadata": {},
   "outputs": [],
   "source": [
    "def align_x(S):\n",
    "    empty = True\n",
    "    while empty:\n",
    "        for x in range(len(S)):\n",
    "            if S[x][0] == 1:\n",
    "                empty = False\n",
    "                break\n",
    "        if empty:\n",
    "            for x in range(len(S)):\n",
    "                S[x] = shift(S[x], 1)\n",
    "    return S"
   ]
  },
  {
   "cell_type": "code",
   "execution_count": 92,
   "metadata": {},
   "outputs": [],
   "source": [
    "def align_y(S):\n",
    "    empty = True\n",
    "    while empty:\n",
    "        for y in range(len(S)):\n",
    "            if S[0][y] == 1:\n",
    "                empty = False\n",
    "                break\n",
    "        if empty:\n",
    "            S = shift(S, 1)\n",
    "    return S"
   ]
  },
  {
   "cell_type": "code",
   "execution_count": 93,
   "metadata": {},
   "outputs": [],
   "source": [
    "def align(S):\n",
    "    S = list(S)\n",
    "    S = align_x(S)\n",
    "    S = align_y(S)\n",
    "    return S"
   ]
  },
  {
   "cell_type": "code",
   "execution_count": 95,
   "metadata": {},
   "outputs": [
    {
     "data": {
      "text/plain": [
       "<matplotlib.image.AxesImage at 0x12c9fd0>"
      ]
     },
     "execution_count": 95,
     "metadata": {},
     "output_type": "execute_result"
    },
    {
     "data": {
      "image/png": "[encoded data removed]",
      "text/plain": [
       "<Figure size 432x288 with 1 Axes>"
      ]
     },
     "metadata": {
      "needs_background": "light"
     },
     "output_type": "display_data"
    }
   ],
   "source": [
    "plt.imshow(align(rotate_matrix(shape)))"
   ]
  },
  {
   "cell_type": "code",
   "execution_count": 90,
   "metadata": {},
   "outputs": [
    {
     "data": {
      "text/plain": [
       "[[1, 1, 0, 0, 0],\n",
       " [1, 1, 1, 1, 0],\n",
       " [0, 0, 1, 1, 0],\n",
       " [0, 0, 0, 0, 0],\n",
       " [0, 0, 0, 0, 0]]"
      ]
     },
     "execution_count": 90,
     "metadata": {},
     "output_type": "execute_result"
    }
   ],
   "source": [
    "align_y(align_x(rotate_matrix(rotate_matrix(shape))))"
   ]
  },
  {
   "cell_type": "code",
   "execution_count": 178,
   "metadata": {},
   "outputs": [],
   "source": [
    "def plot_configurations(piece):\n",
    "    plt.subplots(4,4,figsize=(8,8))\n",
    "    plot_index = 1\n",
    "    \n",
    "    S = []\n",
    "    L = []\n",
    "\n",
    "    for rot in range(4):\n",
    "        piece = rotate_matrix(piece)\n",
    "        plt.subplot(4,4,plot_index)\n",
    "        plot_index += 1\n",
    "        aligned_piece = align(piece)\n",
    "        plt.imshow(aligned_piece)\n",
    "        S.append(tuple([tuple(x) for x in aligned_piece]))\n",
    "        L.append(aligned_piece)\n",
    "        plt.title('rot {} - no flip'.format(rot + 1))\n",
    "        plt.axis('off')\n",
    "\n",
    "    piece = hflip_matrix(piece)\n",
    "\n",
    "    for rot in range(4):\n",
    "        piece = rotate_matrix(piece)\n",
    "        plt.subplot(4,4,plot_index)\n",
    "        plot_index += 1\n",
    "        aligned_piece = align(piece)\n",
    "        plt.imshow(aligned_piece)\n",
    "        S.append(tuple([tuple(x) for x in aligned_piece]))\n",
    "        L.append(aligned_piece)\n",
    "        plt.title('rot {} - h-flip'.format(rot + 1))\n",
    "        plt.axis('off')\n",
    "\n",
    "    piece = hflip_matrix(piece)\n",
    "    piece = vflip_matrix(piece)\n",
    "\n",
    "    for rot in range(4):\n",
    "        piece = rotate_matrix(piece)\n",
    "        plt.subplot(4,4,plot_index)\n",
    "        plot_index += 1\n",
    "        aligned_piece = align(piece)\n",
    "        plt.imshow(aligned_piece)\n",
    "        S.append(tuple([tuple(x) for x in aligned_piece]))\n",
    "        L.append(aligned_piece)\n",
    "        plt.title('rot {} - v-flip'.format(rot + 1))\n",
    "        plt.axis('off')\n",
    "\n",
    "    piece = hflip_matrix(piece)\n",
    "\n",
    "    for rot in range(4):\n",
    "        piece = rotate_matrix(piece)\n",
    "        plt.subplot(4,4,plot_index)\n",
    "        plot_index += 1\n",
    "        aligned_piece = align(piece)\n",
    "        plt.imshow(aligned_piece)\n",
    "        S.append(tuple([tuple(x) for x in aligned_piece]))\n",
    "        L.append(aligned_piece)\n",
    "        plt.title('rot {} - hv-flip'.format(rot + 1))\n",
    "        plt.axis('off')\n",
    "\n",
    "    S = set(S)\n",
    "    \n",
    "    s = list(S)\n",
    "    s = [list([list(q) for q in r]) for r in s]\n",
    "    \n",
    "    plt.show()\n",
    "    \n",
    "    print('Configurations: \\r\\n')\n",
    "    for l in s:\n",
    "        print(np.matrix(l))\n",
    "\n",
    "    plt.tight_layout(pad=1)\n",
    "    print('Total configurations: {}'.format(len(S)))\n",
    "    \n",
    "    return s if s is not None else []"
   ]
  },
  {
   "cell_type": "code",
   "execution_count": 179,
   "metadata": {
    "scrolled": false
   },
   "outputs": [
    {
     "data": {
      "image/png": "[encoded data removed]",
      "text/plain": [
       "<Figure size 576x576 with 16 Axes>"
      ]
     },
     "metadata": {
      "needs_background": "light"
     },
     "output_type": "display_data"
    },
    {
     "name": "stdout",
     "output_type": "stream",
     "text": [
      "Configurations: \r\n",
      "\n",
      "[[1 1 0 0 0]\n",
      " [1 1 1 1 0]\n",
      " [0 0 1 1 0]\n",
      " [0 0 0 0 0]\n",
      " [0 0 0 0 0]]\n",
      "[[0 0 1 1 0]\n",
      " [1 1 1 1 0]\n",
      " [1 1 0 0 0]\n",
      " [0 0 0 0 0]\n",
      " [0 0 0 0 0]]\n",
      "[[1 1 0 0 0]\n",
      " [1 1 0 0 0]\n",
      " [0 1 1 0 0]\n",
      " [0 1 1 0 0]\n",
      " [0 0 0 0 0]]\n",
      "[[0 1 1 0 0]\n",
      " [0 1 1 0 0]\n",
      " [1 1 0 0 0]\n",
      " [1 1 0 0 0]\n",
      " [0 0 0 0 0]]\n",
      "Total configurations: 4\n"
     ]
    },
    {
     "data": {
      "text/plain": [
       "<Figure size 432x288 with 0 Axes>"
      ]
     },
     "metadata": {},
     "output_type": "display_data"
    },
    {
     "data": {
      "image/png": "[encoded data removed]",
      "text/plain": [
       "<Figure size 576x576 with 16 Axes>"
      ]
     },
     "metadata": {
      "needs_background": "light"
     },
     "output_type": "display_data"
    },
    {
     "name": "stdout",
     "output_type": "stream",
     "text": [
      "Configurations: \r\n",
      "\n",
      "[[1 1 0 0 0]\n",
      " [1 1 0 0 0]\n",
      " [1 1 0 0 0]\n",
      " [1 1 0 0 0]\n",
      " [0 0 0 0 0]]\n",
      "[[1 1 1 1 0]\n",
      " [1 1 1 1 0]\n",
      " [0 0 0 0 0]\n",
      " [0 0 0 0 0]\n",
      " [0 0 0 0 0]]\n",
      "Total configurations: 2\n"
     ]
    },
    {
     "data": {
      "text/plain": [
       "<Figure size 432x288 with 0 Axes>"
      ]
     },
     "metadata": {},
     "output_type": "display_data"
    },
    {
     "data": {
      "image/png": "[encoded data removed]",
      "text/plain": [
       "<Figure size 576x576 with 16 Axes>"
      ]
     },
     "metadata": {
      "needs_background": "light"
     },
     "output_type": "display_data"
    },
    {
     "name": "stdout",
     "output_type": "stream",
     "text": [
      "Configurations: \r\n",
      "\n",
      "[[1 1 1 0 0]\n",
      " [1 1 1 0 0]\n",
      " [1 0 0 0 0]\n",
      " [1 0 0 0 0]\n",
      " [0 0 0 0 0]]\n",
      "[[1 1 1 0 0]\n",
      " [1 1 1 0 0]\n",
      " [0 0 1 0 0]\n",
      " [0 0 1 0 0]\n",
      " [0 0 0 0 0]]\n",
      "[[0 0 1 0 0]\n",
      " [0 0 1 0 0]\n",
      " [1 1 1 0 0]\n",
      " [1 1 1 0 0]\n",
      " [0 0 0 0 0]]\n",
      "[[1 1 0 0 0]\n",
      " [1 1 0 0 0]\n",
      " [1 1 1 1 0]\n",
      " [0 0 0 0 0]\n",
      " [0 0 0 0 0]]\n",
      "[[1 1 1 1 0]\n",
      " [1 1 0 0 0]\n",
      " [1 1 0 0 0]\n",
      " [0 0 0 0 0]\n",
      " [0 0 0 0 0]]\n",
      "[[0 0 1 1 0]\n",
      " [0 0 1 1 0]\n",
      " [1 1 1 1 0]\n",
      " [0 0 0 0 0]\n",
      " [0 0 0 0 0]]\n",
      "[[1 1 1 1 0]\n",
      " [0 0 1 1 0]\n",
      " [0 0 1 1 0]\n",
      " [0 0 0 0 0]\n",
      " [0 0 0 0 0]]\n",
      "[[1 0 0 0 0]\n",
      " [1 0 0 0 0]\n",
      " [1 1 1 0 0]\n",
      " [1 1 1 0 0]\n",
      " [0 0 0 0 0]]\n",
      "Total configurations: 8\n"
     ]
    },
    {
     "data": {
      "text/plain": [
       "<Figure size 432x288 with 0 Axes>"
      ]
     },
     "metadata": {},
     "output_type": "display_data"
    },
    {
     "data": {
      "image/png": "[encoded data removed]",
      "text/plain": [
       "<Figure size 576x576 with 16 Axes>"
      ]
     },
     "metadata": {
      "needs_background": "light"
     },
     "output_type": "display_data"
    },
    {
     "name": "stdout",
     "output_type": "stream",
     "text": [
      "Configurations: \r\n",
      "\n",
      "[[1 0 0 1 0]\n",
      " [1 0 0 1 0]\n",
      " [1 1 1 1 0]\n",
      " [0 0 0 0 0]\n",
      " [0 0 0 0 0]]\n",
      "[[1 1 1 1 0]\n",
      " [1 0 0 1 0]\n",
      " [1 0 0 1 0]\n",
      " [0 0 0 0 0]\n",
      " [0 0 0 0 0]]\n",
      "[[1 1 1 0 0]\n",
      " [1 0 0 0 0]\n",
      " [1 0 0 0 0]\n",
      " [1 1 1 0 0]\n",
      " [0 0 0 0 0]]\n",
      "[[1 1 1 0 0]\n",
      " [0 0 1 0 0]\n",
      " [0 0 1 0 0]\n",
      " [1 1 1 0 0]\n",
      " [0 0 0 0 0]]\n",
      "Total configurations: 4\n"
     ]
    },
    {
     "data": {
      "text/plain": [
       "<Figure size 432x288 with 0 Axes>"
      ]
     },
     "metadata": {},
     "output_type": "display_data"
    },
    {
     "data": {
      "image/png": "[encoded data removed]",
      "text/plain": [
       "<Figure size 576x576 with 16 Axes>"
      ]
     },
     "metadata": {
      "needs_background": "light"
     },
     "output_type": "display_data"
    },
    {
     "name": "stdout",
     "output_type": "stream",
     "text": [
      "Configurations: \r\n",
      "\n",
      "[[1 1 1 0 0]\n",
      " [1 1 1 0 0]\n",
      " [0 1 0 0 0]\n",
      " [0 1 0 0 0]\n",
      " [0 0 0 0 0]]\n",
      "[[1 1 0 0 0]\n",
      " [1 1 1 1 0]\n",
      " [1 1 0 0 0]\n",
      " [0 0 0 0 0]\n",
      " [0 0 0 0 0]]\n",
      "[[0 1 0 0 0]\n",
      " [0 1 0 0 0]\n",
      " [1 1 1 0 0]\n",
      " [1 1 1 0 0]\n",
      " [0 0 0 0 0]]\n",
      "[[0 0 1 1 0]\n",
      " [1 1 1 1 0]\n",
      " [0 0 1 1 0]\n",
      " [0 0 0 0 0]\n",
      " [0 0 0 0 0]]\n",
      "Total configurations: 4\n"
     ]
    },
    {
     "data": {
      "text/plain": [
       "<Figure size 432x288 with 0 Axes>"
      ]
     },
     "metadata": {},
     "output_type": "display_data"
    },
    {
     "data": {
      "image/png": "[encoded data removed]",
      "text/plain": [
       "<Figure size 576x576 with 16 Axes>"
      ]
     },
     "metadata": {
      "needs_background": "light"
     },
     "output_type": "display_data"
    },
    {
     "name": "stdout",
     "output_type": "stream",
     "text": [
      "Configurations: \r\n",
      "\n",
      "[[1 1 1 0 0]\n",
      " [1 1 1 0 0]\n",
      " [1 1 0 0 0]\n",
      " [0 0 0 0 0]\n",
      " [0 0 0 0 0]]\n",
      "[[1 1 1 0 0]\n",
      " [1 1 1 0 0]\n",
      " [0 1 1 0 0]\n",
      " [0 0 0 0 0]\n",
      " [0 0 0 0 0]]\n",
      "[[1 1 0 0 0]\n",
      " [1 1 1 0 0]\n",
      " [1 1 1 0 0]\n",
      " [0 0 0 0 0]\n",
      " [0 0 0 0 0]]\n",
      "[[0 1 1 0 0]\n",
      " [1 1 1 0 0]\n",
      " [1 1 1 0 0]\n",
      " [0 0 0 0 0]\n",
      " [0 0 0 0 0]]\n",
      "Total configurations: 4\n"
     ]
    },
    {
     "data": {
      "text/plain": [
       "<Figure size 432x288 with 0 Axes>"
      ]
     },
     "metadata": {},
     "output_type": "display_data"
    },
    {
     "data": {
      "image/png": "[encoded data removed]",
      "text/plain": [
       "<Figure size 576x576 with 16 Axes>"
      ]
     },
     "metadata": {
      "needs_background": "light"
     },
     "output_type": "display_data"
    },
    {
     "name": "stdout",
     "output_type": "stream",
     "text": [
      "Configurations: \r\n",
      "\n",
      "[[0 1 1 0 0]\n",
      " [0 1 1 0 0]\n",
      " [1 1 1 1 0]\n",
      " [0 0 0 0 0]\n",
      " [0 0 0 0 0]]\n",
      "[[0 0 1 0 0]\n",
      " [1 1 1 0 0]\n",
      " [1 1 1 0 0]\n",
      " [0 0 1 0 0]\n",
      " [0 0 0 0 0]]\n",
      "[[1 0 0 0 0]\n",
      " [1 1 1 0 0]\n",
      " [1 1 1 0 0]\n",
      " [1 0 0 0 0]\n",
      " [0 0 0 0 0]]\n",
      "[[1 1 1 1 0]\n",
      " [0 1 1 0 0]\n",
      " [0 1 1 0 0]\n",
      " [0 0 0 0 0]\n",
      " [0 0 0 0 0]]\n",
      "Total configurations: 4\n"
     ]
    },
    {
     "data": {
      "text/plain": [
       "<Figure size 432x288 with 0 Axes>"
      ]
     },
     "metadata": {},
     "output_type": "display_data"
    },
    {
     "data": {
      "image/png": "[encoded data removed]",
      "text/plain": [
       "<Figure size 576x576 with 16 Axes>"
      ]
     },
     "metadata": {
      "needs_background": "light"
     },
     "output_type": "display_data"
    },
    {
     "name": "stdout",
     "output_type": "stream",
     "text": [
      "Configurations: \r\n",
      "\n",
      "[[1 1 0 0 0]\n",
      " [1 1 0 0 0]\n",
      " [1 1 0 0 0]\n",
      " [0 1 0 0 0]\n",
      " [0 1 0 0 0]]\n",
      "[[1 1 1 1 1]\n",
      " [1 1 1 0 0]\n",
      " [0 0 0 0 0]\n",
      " [0 0 0 0 0]\n",
      " [0 0 0 0 0]]\n",
      "[[1 0 0 0 0]\n",
      " [1 0 0 0 0]\n",
      " [1 1 0 0 0]\n",
      " [1 1 0 0 0]\n",
      " [1 1 0 0 0]]\n",
      "[[1 1 1 0 0]\n",
      " [1 1 1 1 1]\n",
      " [0 0 0 0 0]\n",
      " [0 0 0 0 0]\n",
      " [0 0 0 0 0]]\n",
      "[[1 1 1 1 1]\n",
      " [0 0 1 1 1]\n",
      " [0 0 0 0 0]\n",
      " [0 0 0 0 0]\n",
      " [0 0 0 0 0]]\n",
      "[[0 1 0 0 0]\n",
      " [0 1 0 0 0]\n",
      " [1 1 0 0 0]\n",
      " [1 1 0 0 0]\n",
      " [1 1 0 0 0]]\n",
      "[[1 1 0 0 0]\n",
      " [1 1 0 0 0]\n",
      " [1 1 0 0 0]\n",
      " [1 0 0 0 0]\n",
      " [1 0 0 0 0]]\n",
      "[[0 0 1 1 1]\n",
      " [1 1 1 1 1]\n",
      " [0 0 0 0 0]\n",
      " [0 0 0 0 0]\n",
      " [0 0 0 0 0]]\n",
      "Total configurations: 8\n"
     ]
    },
    {
     "data": {
      "text/plain": [
       "<Figure size 432x288 with 0 Axes>"
      ]
     },
     "metadata": {},
     "output_type": "display_data"
    }
   ],
   "source": [
    "unique_pieces = []\n",
    "for p in pieces:\n",
    "    unique_pieces += plot_configurations(p)"
   ]
  },
  {
   "cell_type": "code",
   "execution_count": 180,
   "metadata": {},
   "outputs": [
    {
     "data": {
      "text/plain": [
       "38"
      ]
     },
     "execution_count": 180,
     "metadata": {},
     "output_type": "execute_result"
    }
   ],
   "source": [
    "len(unique_pieces)"
   ]
  },
  {
   "cell_type": "code",
   "execution_count": 181,
   "metadata": {
    "scrolled": false
   },
   "outputs": [
    {
     "data": {
      "text/plain": [
       "[[[1, 1, 0, 0, 0],\n",
       "  [1, 1, 1, 1, 0],\n",
       "  [0, 0, 1, 1, 0],\n",
       "  [0, 0, 0, 0, 0],\n",
       "  [0, 0, 0, 0, 0]],\n",
       " [[0, 0, 1, 1, 0],\n",
       "  [1, 1, 1, 1, 0],\n",
       "  [1, 1, 0, 0, 0],\n",
       "  [0, 0, 0, 0, 0],\n",
       "  [0, 0, 0, 0, 0]],\n",
       " [[1, 1, 0, 0, 0],\n",
       "  [1, 1, 0, 0, 0],\n",
       "  [0, 1, 1, 0, 0],\n",
       "  [0, 1, 1, 0, 0],\n",
       "  [0, 0, 0, 0, 0]],\n",
       " [[0, 1, 1, 0, 0],\n",
       "  [0, 1, 1, 0, 0],\n",
       "  [1, 1, 0, 0, 0],\n",
       "  [1, 1, 0, 0, 0],\n",
       "  [0, 0, 0, 0, 0]],\n",
       " [[1, 1, 0, 0, 0],\n",
       "  [1, 1, 0, 0, 0],\n",
       "  [1, 1, 0, 0, 0],\n",
       "  [1, 1, 0, 0, 0],\n",
       "  [0, 0, 0, 0, 0]],\n",
       " [[1, 1, 1, 1, 0],\n",
       "  [1, 1, 1, 1, 0],\n",
       "  [0, 0, 0, 0, 0],\n",
       "  [0, 0, 0, 0, 0],\n",
       "  [0, 0, 0, 0, 0]],\n",
       " [[1, 1, 1, 0, 0],\n",
       "  [1, 1, 1, 0, 0],\n",
       "  [1, 0, 0, 0, 0],\n",
       "  [1, 0, 0, 0, 0],\n",
       "  [0, 0, 0, 0, 0]],\n",
       " [[1, 1, 1, 0, 0],\n",
       "  [1, 1, 1, 0, 0],\n",
       "  [0, 0, 1, 0, 0],\n",
       "  [0, 0, 1, 0, 0],\n",
       "  [0, 0, 0, 0, 0]],\n",
       " [[0, 0, 1, 0, 0],\n",
       "  [0, 0, 1, 0, 0],\n",
       "  [1, 1, 1, 0, 0],\n",
       "  [1, 1, 1, 0, 0],\n",
       "  [0, 0, 0, 0, 0]],\n",
       " [[1, 1, 0, 0, 0],\n",
       "  [1, 1, 0, 0, 0],\n",
       "  [1, 1, 1, 1, 0],\n",
       "  [0, 0, 0, 0, 0],\n",
       "  [0, 0, 0, 0, 0]],\n",
       " [[1, 1, 1, 1, 0],\n",
       "  [1, 1, 0, 0, 0],\n",
       "  [1, 1, 0, 0, 0],\n",
       "  [0, 0, 0, 0, 0],\n",
       "  [0, 0, 0, 0, 0]],\n",
       " [[0, 0, 1, 1, 0],\n",
       "  [0, 0, 1, 1, 0],\n",
       "  [1, 1, 1, 1, 0],\n",
       "  [0, 0, 0, 0, 0],\n",
       "  [0, 0, 0, 0, 0]],\n",
       " [[1, 1, 1, 1, 0],\n",
       "  [0, 0, 1, 1, 0],\n",
       "  [0, 0, 1, 1, 0],\n",
       "  [0, 0, 0, 0, 0],\n",
       "  [0, 0, 0, 0, 0]],\n",
       " [[1, 0, 0, 0, 0],\n",
       "  [1, 0, 0, 0, 0],\n",
       "  [1, 1, 1, 0, 0],\n",
       "  [1, 1, 1, 0, 0],\n",
       "  [0, 0, 0, 0, 0]],\n",
       " [[1, 0, 0, 1, 0],\n",
       "  [1, 0, 0, 1, 0],\n",
       "  [1, 1, 1, 1, 0],\n",
       "  [0, 0, 0, 0, 0],\n",
       "  [0, 0, 0, 0, 0]],\n",
       " [[1, 1, 1, 1, 0],\n",
       "  [1, 0, 0, 1, 0],\n",
       "  [1, 0, 0, 1, 0],\n",
       "  [0, 0, 0, 0, 0],\n",
       "  [0, 0, 0, 0, 0]],\n",
       " [[1, 1, 1, 0, 0],\n",
       "  [1, 0, 0, 0, 0],\n",
       "  [1, 0, 0, 0, 0],\n",
       "  [1, 1, 1, 0, 0],\n",
       "  [0, 0, 0, 0, 0]],\n",
       " [[1, 1, 1, 0, 0],\n",
       "  [0, 0, 1, 0, 0],\n",
       "  [0, 0, 1, 0, 0],\n",
       "  [1, 1, 1, 0, 0],\n",
       "  [0, 0, 0, 0, 0]],\n",
       " [[1, 1, 1, 0, 0],\n",
       "  [1, 1, 1, 0, 0],\n",
       "  [0, 1, 0, 0, 0],\n",
       "  [0, 1, 0, 0, 0],\n",
       "  [0, 0, 0, 0, 0]],\n",
       " [[1, 1, 0, 0, 0],\n",
       "  [1, 1, 1, 1, 0],\n",
       "  [1, 1, 0, 0, 0],\n",
       "  [0, 0, 0, 0, 0],\n",
       "  [0, 0, 0, 0, 0]],\n",
       " [[0, 1, 0, 0, 0],\n",
       "  [0, 1, 0, 0, 0],\n",
       "  [1, 1, 1, 0, 0],\n",
       "  [1, 1, 1, 0, 0],\n",
       "  [0, 0, 0, 0, 0]],\n",
       " [[0, 0, 1, 1, 0],\n",
       "  [1, 1, 1, 1, 0],\n",
       "  [0, 0, 1, 1, 0],\n",
       "  [0, 0, 0, 0, 0],\n",
       "  [0, 0, 0, 0, 0]],\n",
       " [[1, 1, 1, 0, 0],\n",
       "  [1, 1, 1, 0, 0],\n",
       "  [1, 1, 0, 0, 0],\n",
       "  [0, 0, 0, 0, 0],\n",
       "  [0, 0, 0, 0, 0]],\n",
       " [[1, 1, 1, 0, 0],\n",
       "  [1, 1, 1, 0, 0],\n",
       "  [0, 1, 1, 0, 0],\n",
       "  [0, 0, 0, 0, 0],\n",
       "  [0, 0, 0, 0, 0]],\n",
       " [[1, 1, 0, 0, 0],\n",
       "  [1, 1, 1, 0, 0],\n",
       "  [1, 1, 1, 0, 0],\n",
       "  [0, 0, 0, 0, 0],\n",
       "  [0, 0, 0, 0, 0]],\n",
       " [[0, 1, 1, 0, 0],\n",
       "  [1, 1, 1, 0, 0],\n",
       "  [1, 1, 1, 0, 0],\n",
       "  [0, 0, 0, 0, 0],\n",
       "  [0, 0, 0, 0, 0]],\n",
       " [[0, 1, 1, 0, 0],\n",
       "  [0, 1, 1, 0, 0],\n",
       "  [1, 1, 1, 1, 0],\n",
       "  [0, 0, 0, 0, 0],\n",
       "  [0, 0, 0, 0, 0]],\n",
       " [[0, 0, 1, 0, 0],\n",
       "  [1, 1, 1, 0, 0],\n",
       "  [1, 1, 1, 0, 0],\n",
       "  [0, 0, 1, 0, 0],\n",
       "  [0, 0, 0, 0, 0]],\n",
       " [[1, 0, 0, 0, 0],\n",
       "  [1, 1, 1, 0, 0],\n",
       "  [1, 1, 1, 0, 0],\n",
       "  [1, 0, 0, 0, 0],\n",
       "  [0, 0, 0, 0, 0]],\n",
       " [[1, 1, 1, 1, 0],\n",
       "  [0, 1, 1, 0, 0],\n",
       "  [0, 1, 1, 0, 0],\n",
       "  [0, 0, 0, 0, 0],\n",
       "  [0, 0, 0, 0, 0]],\n",
       " [[1, 1, 0, 0, 0],\n",
       "  [1, 1, 0, 0, 0],\n",
       "  [1, 1, 0, 0, 0],\n",
       "  [0, 1, 0, 0, 0],\n",
       "  [0, 1, 0, 0, 0]],\n",
       " [[1, 1, 1, 1, 1],\n",
       "  [1, 1, 1, 0, 0],\n",
       "  [0, 0, 0, 0, 0],\n",
       "  [0, 0, 0, 0, 0],\n",
       "  [0, 0, 0, 0, 0]],\n",
       " [[1, 0, 0, 0, 0],\n",
       "  [1, 0, 0, 0, 0],\n",
       "  [1, 1, 0, 0, 0],\n",
       "  [1, 1, 0, 0, 0],\n",
       "  [1, 1, 0, 0, 0]],\n",
       " [[1, 1, 1, 0, 0],\n",
       "  [1, 1, 1, 1, 1],\n",
       "  [0, 0, 0, 0, 0],\n",
       "  [0, 0, 0, 0, 0],\n",
       "  [0, 0, 0, 0, 0]],\n",
       " [[1, 1, 1, 1, 1],\n",
       "  [0, 0, 1, 1, 1],\n",
       "  [0, 0, 0, 0, 0],\n",
       "  [0, 0, 0, 0, 0],\n",
       "  [0, 0, 0, 0, 0]],\n",
       " [[0, 1, 0, 0, 0],\n",
       "  [0, 1, 0, 0, 0],\n",
       "  [1, 1, 0, 0, 0],\n",
       "  [1, 1, 0, 0, 0],\n",
       "  [1, 1, 0, 0, 0]],\n",
       " [[1, 1, 0, 0, 0],\n",
       "  [1, 1, 0, 0, 0],\n",
       "  [1, 1, 0, 0, 0],\n",
       "  [1, 0, 0, 0, 0],\n",
       "  [1, 0, 0, 0, 0]],\n",
       " [[0, 0, 1, 1, 1],\n",
       "  [1, 1, 1, 1, 1],\n",
       "  [0, 0, 0, 0, 0],\n",
       "  [0, 0, 0, 0, 0],\n",
       "  [0, 0, 0, 0, 0]]]"
      ]
     },
     "execution_count": 181,
     "metadata": {},
     "output_type": "execute_result"
    }
   ],
   "source": [
    "unique_pieces"
   ]
  },
  {
   "cell_type": "code",
   "execution_count": 182,
   "metadata": {},
   "outputs": [],
   "source": [
    "def get_rows(tile, shape_dim, grid_dim):\n",
    "    L = []\n",
    "    shape_width, shape_height = shape_dim\n",
    "    grid_width, grid_height = grid_dim\n",
    "    for y in range(grid_height - shape_height + 1):\n",
    "        for x in range(grid_width - shape_width + 1):\n",
    "            L.append((x, y))\n",
    "    rows = []\n",
    "    for offset_x, offset_y in L:\n",
    "        row = [0] * grid_width * grid_height\n",
    "        for x in range(shape_height):\n",
    "            for y in range(shape_width):\n",
    "                if tile[x][y]:\n",
    "                    row[((x + offset_y) * grid_width) + y + offset_x] = 1\n",
    "        rows.append(row)\n",
    "    return rows"
   ]
  },
  {
   "cell_type": "code",
   "execution_count": 215,
   "metadata": {},
   "outputs": [],
   "source": [
    "def get_matrix_for_pieces(pieces, dimensions, n_pieces):\n",
    "    rows = []\n",
    "    for i, p in enumerate(pieces):\n",
    "        header = [0] * n_pieces\n",
    "        header[tile_index[i]] = 1\n",
    "        piece_rows = get_rows(p, dimensions[i], (8,8))\n",
    "        piece_rows = [header + pr for pr in piece_rows]\n",
    "        rows += piece_rows\n",
    "    return rows"
   ]
  },
  {
   "cell_type": "code",
   "execution_count": 216,
   "metadata": {},
   "outputs": [],
   "source": [
    "def find_dimension(piece):\n",
    "    mx, my = 0, 0\n",
    "    for x in range(len(piece)):\n",
    "        for y in range(len(piece)):\n",
    "            if piece[y][x] == 1 and x > mx: mx = x\n",
    "            if piece[y][x] == 1 and y > my: my = y\n",
    "    return mx + 1, my + 1"
   ]
  },
  {
   "cell_type": "code",
   "execution_count": 217,
   "metadata": {},
   "outputs": [
    {
     "data": {
      "text/plain": [
       "(4, 3)"
      ]
     },
     "execution_count": 217,
     "metadata": {},
     "output_type": "execute_result"
    }
   ],
   "source": [
    "find_dimension(unique_pieces[10])"
   ]
  },
  {
   "cell_type": "code",
   "execution_count": 218,
   "metadata": {},
   "outputs": [
    {
     "data": {
      "text/plain": [
       "[[1, 1, 1, 1, 0],\n",
       " [1, 1, 0, 0, 0],\n",
       " [1, 1, 0, 0, 0],\n",
       " [0, 0, 0, 0, 0],\n",
       " [0, 0, 0, 0, 0]]"
      ]
     },
     "execution_count": 218,
     "metadata": {},
     "output_type": "execute_result"
    }
   ],
   "source": [
    "unique_pieces[10]"
   ]
  },
  {
   "cell_type": "code",
   "execution_count": 219,
   "metadata": {},
   "outputs": [
    {
     "data": {
      "text/plain": [
       "<matplotlib.image.AxesImage at 0x536b0d0>"
      ]
     },
     "execution_count": 219,
     "metadata": {},
     "output_type": "execute_result"
    },
    {
     "data": {
      "image/png": "[encoded data removed]",
      "text/plain": [
       "<Figure size 432x288 with 1 Axes>"
      ]
     },
     "metadata": {
      "needs_background": "light"
     },
     "output_type": "display_data"
    }
   ],
   "source": [
    "plt.imshow(unique_pieces[10])"
   ]
  },
  {
   "cell_type": "code",
   "execution_count": 220,
   "metadata": {},
   "outputs": [],
   "source": [
    "tile_index = [0] * 4 + [1] * 2 + [2] * 8 + [3] * 4 + [4] * 4 + [5] * 4 + [6] * 4 + [7] * 8"
   ]
  },
  {
   "cell_type": "code",
   "execution_count": 221,
   "metadata": {},
   "outputs": [],
   "source": [
    "dimensions = [find_dimension(unique_pieces[i]) for i in tile_index]"
   ]
  },
  {
   "cell_type": "code",
   "execution_count": 222,
   "metadata": {},
   "outputs": [
    {
     "data": {
      "text/plain": [
       "[(4, 3),\n",
       " (4, 3),\n",
       " (4, 3),\n",
       " (4, 3),\n",
       " (4, 3),\n",
       " (4, 3),\n",
       " (3, 4),\n",
       " (3, 4),\n",
       " (3, 4),\n",
       " (3, 4),\n",
       " (3, 4),\n",
       " (3, 4),\n",
       " (3, 4),\n",
       " (3, 4),\n",
       " (3, 4),\n",
       " (3, 4),\n",
       " (3, 4),\n",
       " (3, 4),\n",
       " (2, 4),\n",
       " (2, 4),\n",
       " (2, 4),\n",
       " (2, 4),\n",
       " (4, 2),\n",
       " (4, 2),\n",
       " (4, 2),\n",
       " (4, 2),\n",
       " (3, 4),\n",
       " (3, 4),\n",
       " (3, 4),\n",
       " (3, 4),\n",
       " (3, 4),\n",
       " (3, 4),\n",
       " (3, 4),\n",
       " (3, 4),\n",
       " (3, 4),\n",
       " (3, 4),\n",
       " (3, 4),\n",
       " (3, 4)]"
      ]
     },
     "execution_count": 222,
     "metadata": {},
     "output_type": "execute_result"
    }
   ],
   "source": [
    "dimensions"
   ]
  },
  {
   "cell_type": "code",
   "execution_count": 223,
   "metadata": {},
   "outputs": [
    {
     "data": {
      "text/plain": [
       "38"
      ]
     },
     "execution_count": 223,
     "metadata": {},
     "output_type": "execute_result"
    }
   ],
   "source": [
    "len(tile_index)"
   ]
  },
  {
   "cell_type": "code",
   "execution_count": 225,
   "metadata": {
    "scrolled": true
   },
   "outputs": [],
   "source": [
    "Z = get_matrix_for_pieces(unique_pieces, dimensions, 8)"
   ]
  },
  {
   "cell_type": "code",
   "execution_count": 231,
   "metadata": {
    "scrolled": false
   },
   "outputs": [
    {
     "data": {
      "text/plain": [
       "<matplotlib.image.AxesImage at 0x14bd790>"
      ]
     },
     "execution_count": 231,
     "metadata": {},
     "output_type": "execute_result"
    },
    {
     "data": {
      "image/png": "[encoded data removed]",
      "text/plain": [
       "<Figure size 864x2880 with 1 Axes>"
      ]
     },
     "metadata": {
      "needs_background": "light"
     },
     "output_type": "display_data"
    }
   ],
   "source": [
    "plt.figure(figsize=(12,40))\n",
    "plt.imshow(Z)"
   ]
  },
  {
   "cell_type": "code",
   "execution_count": 232,
   "metadata": {},
   "outputs": [
    {
     "data": {
      "text/plain": [
       "1180"
      ]
     },
     "execution_count": 232,
     "metadata": {},
     "output_type": "execute_result"
    }
   ],
   "source": [
    "len(Z)"
   ]
  },
  {
   "cell_type": "code",
   "execution_count": 234,
   "metadata": {},
   "outputs": [],
   "source": [
    "def prune_rows(row_index, M):\n",
    "    rows = []\n",
    "    for j in range(M.shape[1]):\n",
    "        if M[row_index, j] == 1:\n",
    "            for i in range(M.shape[0]):\n",
    "                if M[i, j] == 1 and i != row_index:\n",
    "                    rows.append(i)\n",
    "    return rows"
   ]
  },
  {
   "cell_type": "code",
   "execution_count": 248,
   "metadata": {},
   "outputs": [],
   "source": [
    "def show_solution(S, D):\n",
    "    R = [[0] * D[1] for _ in range(D[0])]\n",
    "    for shape_id, s in enumerate(S):\n",
    "        for i in range(len(s)-8):\n",
    "            if s[8:][i]:  # the first columns belong to the header\n",
    "                r = i // 8\n",
    "                c = i % 8\n",
    "                R[c][r] = shape_id\n",
    "    plt.imshow(R)"
   ]
  },
  {
   "cell_type": "code",
   "execution_count": null,
   "metadata": {
    "scrolled": true
   },
   "outputs": [],
   "source": [
    "def solve(M, S, cols, i=0):\n",
    "    global sub_plot\n",
    "    \n",
    "    #plt.imshow(M)\n",
    "    #plt.axis('off')\n",
    "    #plt.show()\n",
    "        \n",
    "    \n",
    "    if len(S) == 10: \n",
    "        return  # stop\n",
    "    \n",
    "    if M.shape[0] < cols:\n",
    "        return  # bad sln\n",
    "    \n",
    "    if M.shape[0] == cols:\n",
    "        \n",
    "        #print('Solution: {}'.format(M))\n",
    "        plt.imshow(M)\n",
    "        plt.axis('off')\n",
    "        S.append(M)\n",
    "        plt.title('Solution {}'.format(sub_plot))\n",
    "        plt.show()\n",
    "        show_solution(M, (8, 8))\n",
    "        plt.show()\n",
    "        sub_plot += 1\n",
    "        return\n",
    "    \n",
    "    for row in range(M.shape[0]):\n",
    "        if M[row, i] == 1:\n",
    "            N = np.delete(M, prune_rows(row, M), axis=0)\n",
    "            valid = True\n",
    "            for j in range(N.shape[1]):\n",
    "                if sum(N[:,N.shape[1]-j-1]) == 0:\n",
    "                    valid = False\n",
    "                    break\n",
    "            if valid:\n",
    "                solve(N, S, cols, i + 1)\n",
    "    \n",
    "\n",
    "sub_plot = 1\n",
    "\n",
    "S = []    \n",
    "solve(np.array(Z), S, cols=8)\n",
    "print('Number of solutions: {}'.format(len(S)))\n",
    "plt.tight_layout()"
   ]
  },
  {
   "cell_type": "code",
   "execution_count": 254,
   "metadata": {},
   "outputs": [],
   "source": [
    "Zx = np.matrix([[1,2],[3,4]])"
   ]
  },
  {
   "cell_type": "code",
   "execution_count": 256,
   "metadata": {},
   "outputs": [
    {
     "data": {
      "text/plain": [
       "4"
      ]
     },
     "execution_count": 256,
     "metadata": {},
     "output_type": "execute_result"
    }
   ],
   "source": [
    "sum(Zx[:,0])"
   ]
  },
  {
   "cell_type": "code",
   "execution_count": null,
   "metadata": {},
   "outputs": [],
   "source": []
  }
 ],
 "metadata": {
  "kernelspec": {
   "display_name": "Python 3",
   "language": "python",
   "name": "python3"
  },
  "language_info": {
   "codemirror_mode": {
    "name": "ipython",
    "version": 3
   },
   "file_extension": ".py",
   "mimetype": "text/x-python",
   "name": "python",
   "nbconvert_exporter": "python",
   "pygments_lexer": "ipython3",
   "version": "3.7.4"
  }
 },
 "nbformat": 4,
 "nbformat_minor": 2
}
