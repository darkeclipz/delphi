{
 "cells": [
  {
   "cell_type": "code",
   "execution_count": 1,
   "metadata": {},
   "outputs": [
    {
     "name": "stdout",
     "output_type": "stream",
     "text": [
      "Populating the interactive namespace from numpy and matplotlib\n"
     ]
    }
   ],
   "source": [
    "%pylab inline"
   ]
  },
  {
   "cell_type": "markdown",
   "metadata": {},
   "source": [
    "# Blokjespuzzel"
   ]
  },
  {
   "cell_type": "markdown",
   "metadata": {},
   "source": [
    "De blokjespuzzel bevat de volgende blokjes:"
   ]
  },
  {
   "cell_type": "markdown",
   "metadata": {},
   "source": [
    "![blokjes](blokjes.png)"
   ]
  },
  {
   "cell_type": "code",
   "execution_count": 124,
   "metadata": {},
   "outputs": [],
   "source": [
    "def get_matrix_for_piece(P):\n",
    "    R = [[0,0,0,0,0] for _ in range(5)]\n",
    "    for x in range(5):\n",
    "        for y in range(5):\n",
    "            if 5 * y + x in P:\n",
    "                R[x][y] = 1\n",
    "    return R\n",
    "\n",
    "def rotate_matrix(M):\n",
    "    R = [[0,0,0,0,0] for _ in range(5)]\n",
    "    for x in range(5):\n",
    "        for y in range(5):\n",
    "            R[y][4-x] = M[x][y]\n",
    "    return R\n",
    "\n",
    "def vflip_matrix(M):\n",
    "    R = [[0,0,0,0,0] for _ in range(5)]\n",
    "    for x in range(5):\n",
    "        for y in range(5):\n",
    "            R[x][y] = M[4-x][y]\n",
    "    return R\n",
    "\n",
    "def hflip_matrix(M):\n",
    "    R = [[0,0,0,0,0] for _ in range(5)]\n",
    "    for x in range(5):\n",
    "        for y in range(5):\n",
    "            R[x][y] = M[x][4-y]\n",
    "    return R"
   ]
  },
  {
   "cell_type": "markdown",
   "metadata": {},
   "source": [
    "Elk van de blokjes wordt opgeslagen in een $5\\times 5$ array."
   ]
  },
  {
   "cell_type": "code",
   "execution_count": 301,
   "metadata": {},
   "outputs": [],
   "source": [
    "Z = [0, 1, 5, 6, 11, 12, 16, 17]\n",
    "I = [0, 1, 2, 3, 5, 6, 7, 8]\n",
    "L = [2, 3, 7, 8, 10, 11, 12, 13]\n",
    "U = [0, 5, 10, 11, 12, 13, 8, 3]\n",
    "Y = [0, 1, 2, 5, 6, 7, 11, 16]\n",
    "B = [0, 1, 2, 5, 6, 7, 10, 11]\n",
    "T = [1, 2, 6, 7, 10, 11, 12, 13]\n",
    "P = [1, 6, 10, 11, 15, 16, 20, 21]\n",
    "pieces = [Z, I, L, U, Y, B, T, P]\n",
    "configurations = [4, 2, 4, 4, 4, 4, 4, 4]\n",
    "names = ['Z', 'I', 'L', 'U', 'Y', 'B', 'T', 'P']\n",
    "pieces = [get_matrix_for_piece(p) for p in pieces]"
   ]
  },
  {
   "cell_type": "code",
   "execution_count": 302,
   "metadata": {},
   "outputs": [
    {
     "data": {
      "text/plain": [
       "30"
      ]
     },
     "execution_count": 302,
     "metadata": {},
     "output_type": "execute_result"
    }
   ],
   "source": [
    "sum(configurations)"
   ]
  },
  {
   "cell_type": "code",
   "execution_count": 307,
   "metadata": {},
   "outputs": [
    {
     "data": {
      "image/png": "[encoded data removed]",
      "text/plain": [
       "<Figure size 720x864 with 30 Axes>"
      ]
     },
     "metadata": {
      "needs_background": "light"
     },
     "output_type": "display_data"
    }
   ],
   "source": [
    "plt.subplots(6, 5, figsize=(10, 12))\n",
    "curr_plot = 0\n",
    "for i, p in enumerate(pieces):\n",
    "    for j in range(configurations[i]):\n",
    "        if configurations[i] in [2, 4]:\n",
    "            p = rotate_matrix(p)\n",
    "        elif configurations[i] == 8:\n",
    "            if j & 1: \n",
    "                p = vflip_matrix(p)\n",
    "            else:\n",
    "                p = rotate_matrix(p)\n",
    "        plt.subplot(6, 5, curr_plot + 1)\n",
    "        plt.axis('off')\n",
    "        plt.imshow(p)\n",
    "        curr_plot += 1\n",
    "        \n",
    "#plt.subplot(6,6,35)\n",
    "#plt.imshow(np.eye(5)*0)\n",
    "#plt.axis('off')\n",
    "\n",
    "#plt.subplot(6,6,36)\n",
    "#plt.imshow(np.eye(5)*0)\n",
    "#plt.axis('off')\n",
    "\n",
    "plt.tight_layout(pad=1)"
   ]
  },
  {
   "cell_type": "code",
   "execution_count": 125,
   "metadata": {},
   "outputs": [
    {
     "data": {
      "image/png": "[encoded data removed]",
      "text/plain": [
       "<Figure size 864x432 with 8 Axes>"
      ]
     },
     "metadata": {
      "needs_background": "light"
     },
     "output_type": "display_data"
    }
   ],
   "source": [
    "plt.subplots(2, 4, figsize=(12,6))\n",
    "for i, p in enumerate(pieces):\n",
    "    plt.subplot(2, 4, i+1)\n",
    "    plt.axis('off')\n",
    "    plt.imshow(p)\n",
    "    plt.title('{} ({} configurations)'.format(names[i], configurations[i]))\n",
    "plt.tight_layout(pad=0.5)"
   ]
  },
  {
   "cell_type": "code",
   "execution_count": 126,
   "metadata": {},
   "outputs": [],
   "source": [
    "def new_board():\n",
    "    return [[0] * 8 for _ in range(8)]"
   ]
  },
  {
   "cell_type": "code",
   "execution_count": 127,
   "metadata": {},
   "outputs": [],
   "source": [
    "def max2(X):\n",
    "    return max([max(x) for x in X])"
   ]
  },
  {
   "cell_type": "code",
   "execution_count": 227,
   "metadata": {},
   "outputs": [],
   "source": [
    "def place(P, B, B_pos):\n",
    "    ax, ay = find_anchor(P)\n",
    "    bx, by = B_pos\n",
    "    n = max2(B)\n",
    "    for x in range(-ax, 5-ax):\n",
    "        for y in range(-ay, 5-ay):\n",
    "            if P[x+ax][y+ay]:\n",
    "                B[x+bx][y+by] = n+1\n",
    "    return B"
   ]
  },
  {
   "cell_type": "code",
   "execution_count": 228,
   "metadata": {},
   "outputs": [],
   "source": [
    "def remove(P, B, B_pos):\n",
    "    ax, ay = find_anchor(P)\n",
    "    bx, by = B_pos\n",
    "    n = max2(B)\n",
    "    for x in range(-ax, 5-ax):\n",
    "        for y in range(-ay, 5-ay):\n",
    "            if P[x+ax][y+ay]:\n",
    "                B[x+bx][y+by] = 0\n",
    "    return B"
   ]
  },
  {
   "cell_type": "code",
   "execution_count": 243,
   "metadata": {},
   "outputs": [],
   "source": [
    "def can_place(P, B, B_pos):\n",
    "    ax, ay = find_anchor(P)\n",
    "    bx, by = B_pos\n",
    "    n = max2(B)\n",
    "    for x in range(-ax, 5-ax):\n",
    "        for y in range(-ay, 5-ay):\n",
    "            print('(x+bx, y+by) = ({}, {})'.format(x+bx, y+by))\n",
    "            if P[x+ax][y+ay]                   \\\n",
    "                and (not 0 <= x + bx < 5       \\\n",
    "                     or not 0 <= y + by < 5    \\\n",
    "                     or not B[x+bx][y+by] == 0):\n",
    "                return False\n",
    "    return True"
   ]
  },
  {
   "cell_type": "code",
   "execution_count": 244,
   "metadata": {
    "scrolled": false
   },
   "outputs": [
    {
     "data": {
      "text/plain": [
       "<matplotlib.image.AxesImage at 0x9c85ff0>"
      ]
     },
     "execution_count": 244,
     "metadata": {},
     "output_type": "execute_result"
    },
    {
     "data": {
      "image/png": "[encoded data removed]",
      "text/plain": [
       "<Figure size 432x288 with 1 Axes>"
      ]
     },
     "metadata": {
      "needs_background": "light"
     },
     "output_type": "display_data"
    }
   ],
   "source": [
    "board = new_board()\n",
    "z = place(ZR1, board, (0,1))\n",
    "z = place(ZR2, board, (4,0))\n",
    "z = place(pieces[2], board, (4, 4))\n",
    "plt.imshow(board)"
   ]
  },
  {
   "cell_type": "code",
   "execution_count": 249,
   "metadata": {},
   "outputs": [],
   "source": [
    "def print_state(board, current_pos, current_piece, current_configuration):\n",
    "    print('Current pos: {}, Current piece: {}, Current configuration: {}'\n",
    "         .format(current_pos, current_piece, current_configuration))\n",
    "    plt.imshow(board)\n",
    "    plt.show()\n",
    "    print('-' * 26)"
   ]
  },
  {
   "cell_type": "code",
   "execution_count": 250,
   "metadata": {},
   "outputs": [],
   "source": [
    "def next_pos(x, w, h):\n",
    "    pos = x[1] * h + x[0]\n",
    "    pos += 1\n",
    "    xx = pos % h\n",
    "    xy = pos // h\n",
    "    return xx, xy"
   ]
  },
  {
   "cell_type": "code",
   "execution_count": 263,
   "metadata": {},
   "outputs": [],
   "source": [
    "def solve(board, pieces, configurations, current_pos, current_piece, current_configuration):\n",
    "    \n",
    "    if current_pos == (8, 7): \n",
    "        return\n",
    "    \n",
    "    print_state(board, current_pos, current_piece, current_configuration)\n",
    "    \n",
    "    piece = pieces[current_piece]\n",
    "    for ci in range(current_configuration, configurations[current_piece]):\n",
    "        piece = rotate_matrix(piece)\n",
    "        if can_place(board, piece, current_pos):\n",
    "            board = place(piece, board, current_pos)\n",
    "            solve(board, pieces, configurations, next_pos(current_pos, 8, 8), current_piece + 1, 0)\n",
    "            return\n",
    "        print('ci={}'.format(ci))\n",
    "    \n",
    "    solve(board, pieces, configurations, next_pos(current_pos, 8, 8), current_piece, current_configuration)\n",
    "        \n",
    "    "
   ]
  },
  {
   "cell_type": "code",
   "execution_count": 266,
   "metadata": {
    "scrolled": true
   },
   "outputs": [],
   "source": [
    "board = new_board()\n",
    "#solve(board, pieces, configurations, (0, 0), 0, 0)"
   ]
  },
  {
   "cell_type": "code",
   "execution_count": 256,
   "metadata": {},
   "outputs": [
    {
     "data": {
      "text/plain": [
       "(6, 8)"
      ]
     },
     "execution_count": 256,
     "metadata": {},
     "output_type": "execute_result"
    }
   ],
   "source": [
    "next_pos((5,8), 8, 8)"
   ]
  },
  {
   "cell_type": "code",
   "execution_count": null,
   "metadata": {},
   "outputs": [],
   "source": []
  }
 ],
 "metadata": {
  "kernelspec": {
   "display_name": "Python 3",
   "language": "python",
   "name": "python3"
  },
  "language_info": {
   "codemirror_mode": {
    "name": "ipython",
    "version": 3
   },
   "file_extension": ".py",
   "mimetype": "text/x-python",
   "name": "python",
   "nbconvert_exporter": "python",
   "pygments_lexer": "ipython3",
   "version": "3.7.4"
  }
 },
 "nbformat": 4,
 "nbformat_minor": 2
}
